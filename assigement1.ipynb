{
 "cells": [
  {
   "cell_type": "code",
   "execution_count": null,
   "id": "e38074b7-1653-4a5a-86d3-622cd77e7131",
   "metadata": {},
   "outputs": [],
   "source": [
    "    Assigement no 1\n",
    "\n",
    "Que 1 Guido Van Rossum\n",
    "Que 2 Object orented and strucherd programming\n",
    "Que 3 Yes python is case censetive thise apply identifiyer too\n",
    "Que 4 .py, .pyi\n",
    "Que 5 python code is interupted\n",
    "Que 6 Braces {}\n",
    "Que 7 Hase #\n",
    "Que 8 sys. vesion methoid  python_version()\n",
    "Que 9 lambda \n",
    "Que 10 perfer installer program\n",
    "Que 11  print(), type(), len(), input(), max()\n",
    "Que 12  79 Character\n",
    "Que 13  125000 libraies using python maching learing , wab processing \n",
    "Que 14  memory mangement in python involes private heap contaning all python obgect and data strurctures \n",
    "Que 15 1. Right clicking this ps and going to nproperty \n",
    "         2. clicking on the advanced system setting in the on the left \n",
    "         3. clicking on the envaemental variables button on the bottem right \n",
    "         4. in the system variables section ,selecting the path variables and clicking on edit\n",
    "Que 16 to define the blocks of staement"
   ]
  }
 ],
 "metadata": {
  "kernelspec": {
   "display_name": "Python 3 (ipykernel)",
   "language": "python",
   "name": "python3"
  },
  "language_info": {
   "codemirror_mode": {
    "name": "ipython",
    "version": 3
   },
   "file_extension": ".py",
   "mimetype": "text/x-python",
   "name": "python",
   "nbconvert_exporter": "python",
   "pygments_lexer": "ipython3",
   "version": "3.10.8"
  }
 },
 "nbformat": 4,
 "nbformat_minor": 5
}
